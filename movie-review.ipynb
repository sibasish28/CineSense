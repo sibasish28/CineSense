{
 "cells": [
  {
   "cell_type": "markdown",
   "id": "bc97d6da",
   "metadata": {
    "id": "bc97d6da"
   },
   "source": [
    "\n",
    "# Custom Naive Bayes Classifier"
   ]
  },
  {
   "cell_type": "code",
   "execution_count": 1,
   "id": "a03450ac",
   "metadata": {
    "id": "a03450ac",
    "ExecuteTime": {
     "end_time": "2023-12-01T20:21:32.281574Z",
     "start_time": "2023-12-01T20:21:30.752984Z"
    }
   },
   "outputs": [
    {
     "name": "stderr",
     "output_type": "stream",
     "text": [
      "[nltk_data] Downloading package stopwords to\n",
      "[nltk_data]     /Users/daviddada/nltk_data...\n",
      "[nltk_data]   Package stopwords is already up-to-date!\n",
      "[nltk_data] Downloading package punkt to /Users/daviddada/nltk_data...\n",
      "[nltk_data]   Package punkt is already up-to-date!\n"
     ]
    }
   ],
   "source": [
    "## Importing the Libraries\n",
    "import numpy as np\n",
    "import pandas as pd\n",
    "import re\n",
    "import string\n",
    "from nltk.corpus import stopwords\n",
    "from nltk.stem import PorterStemmer\n",
    "from nltk.tokenize import word_tokenize\n",
    "from nltk.downloader import download as nltk_download\n",
    "nltk_download('stopwords')\n",
    "nltk_download('punkt')\n",
    "import warnings\n",
    "import seaborn as sns\n",
    "import matplotlib.pyplot as plt\n",
    "from sklearn.utils import resample\n",
    "from sklearn.model_selection import train_test_split\n",
    "from sklearn.metrics import confusion_matrix, ConfusionMatrixDisplay\n",
    "warnings.filterwarnings(\"ignore\")\n",
    "import json"
   ]
  },
  {
   "cell_type": "code",
   "execution_count": 2,
   "id": "3c9ffbf5",
   "metadata": {
    "id": "3c9ffbf5",
    "ExecuteTime": {
     "end_time": "2023-12-01T20:21:32.668554Z",
     "start_time": "2023-12-01T20:21:32.283362Z"
    }
   },
   "outputs": [],
   "source": [
    "# Peeking at the data\n",
    "\n",
    "# remove unimportant cols for nice displaying\n",
    "df = pd.read_csv(\"movie_reviews.csv\", sep = ',', encoding = 'latin-1', usecols = lambda col: col not in [\"Unnamed: 2\", \"Unnamed: 3\", \"Unnamed: 4\"])"
   ]
  },
  {
   "cell_type": "code",
   "execution_count": 3,
   "id": "f7fa8ac0",
   "metadata": {
    "colab": {
     "base_uri": "https://localhost:8080/",
     "height": 206
    },
    "id": "f7fa8ac0",
    "outputId": "69edaf28-1e2e-4ec7-9530-b30a2853ab9e",
    "ExecuteTime": {
     "end_time": "2023-12-01T20:21:32.692141Z",
     "start_time": "2023-12-01T20:21:32.669159Z"
    }
   },
   "outputs": [
    {
     "data": {
      "text/plain": "                                              review sentiment\n0  One of the other reviewers has mentioned that ...  positive\n1  A wonderful little production. <br /><br />The...  positive\n2  I thought this was a wonderful way to spend ti...  positive\n3  Petter Mattei's \"Love in the Time of Money\" is...  positive\n4  Probably my all-time favorite movie, a story o...  positive",
      "text/html": "<div>\n<style scoped>\n    .dataframe tbody tr th:only-of-type {\n        vertical-align: middle;\n    }\n\n    .dataframe tbody tr th {\n        vertical-align: top;\n    }\n\n    .dataframe thead th {\n        text-align: right;\n    }\n</style>\n<table border=\"1\" class=\"dataframe\">\n  <thead>\n    <tr style=\"text-align: right;\">\n      <th></th>\n      <th>review</th>\n      <th>sentiment</th>\n    </tr>\n  </thead>\n  <tbody>\n    <tr>\n      <th>0</th>\n      <td>One of the other reviewers has mentioned that ...</td>\n      <td>positive</td>\n    </tr>\n    <tr>\n      <th>1</th>\n      <td>A wonderful little production. &lt;br /&gt;&lt;br /&gt;The...</td>\n      <td>positive</td>\n    </tr>\n    <tr>\n      <th>2</th>\n      <td>I thought this was a wonderful way to spend ti...</td>\n      <td>positive</td>\n    </tr>\n    <tr>\n      <th>3</th>\n      <td>Petter Mattei's \"Love in the Time of Money\" is...</td>\n      <td>positive</td>\n    </tr>\n    <tr>\n      <th>4</th>\n      <td>Probably my all-time favorite movie, a story o...</td>\n      <td>positive</td>\n    </tr>\n  </tbody>\n</table>\n</div>"
     },
     "execution_count": 3,
     "metadata": {},
     "output_type": "execute_result"
    }
   ],
   "source": [
    "df.head()  # print head of data frame with help of head function"
   ]
  },
  {
   "cell_type": "markdown",
   "id": "1749da04",
   "metadata": {
    "id": "1749da04"
   },
   "source": [
    "## Data Exploration \n",
    "Count plot of the output categories: positive and negative"
   ]
  },
  {
   "cell_type": "code",
   "execution_count": 4,
   "outputs": [
    {
     "data": {
      "text/plain": "<Figure size 700x500 with 1 Axes>",
      "image/png": "[encoded data removed]"
     },
     "metadata": {},
     "output_type": "display_data"
    }
   ],
   "source": [
    "plt.figure(figsize = (7,5))\n",
    "sns.countplot(x='sentiment', hue='sentiment', data=df)\n",
    "plt.title(\"Positive Vs. Negative reviews count\", fontsize = 15)\n",
    "plt.show()"
   ],
   "metadata": {
    "collapsed": false,
    "ExecuteTime": {
     "end_time": "2023-12-01T20:21:33.073710Z",
     "start_time": "2023-12-01T20:21:32.685262Z"
    }
   },
   "id": "50be8fbc8fee838c"
  },
  {
   "cell_type": "markdown",
   "id": "9b8549f2",
   "metadata": {
    "id": "9b8549f2"
   },
   "source": [
    "## Upsampling the minority class:\n",
    "It is known that Naive bayes is not robust to class imbalance. It could be seen above that the data is little imbalanced. Therefore, class balancing can be done before giving it to the Naive Bayes model for prediction. "
   ]
  },
  {
   "cell_type": "code",
   "source": [
    "# positive    12474\n",
    "# negative    12225\n",
    "\n",
    "df_majority = df.loc[df['sentiment'] == 'positive']\n",
    "df_minority = df.loc[df['sentiment'] == 'negative']\n",
    "\n",
    "negative_upsample = resample(df_minority, replace = True, \n",
    "                        n_samples = df_majority.shape[0],\n",
    "                        random_state = 101)\n",
    "\n",
    "df_upsampled = pd.concat([df_majority, negative_upsample])  # concat two data frames i,e majority class data set and upsampled minority class data set\n",
    "df_upsampled = df_upsampled.sample(frac = 1)"
   ],
   "metadata": {
    "id": "yHJTAqrW7XMN",
    "ExecuteTime": {
     "end_time": "2023-12-01T20:21:33.226521Z",
     "start_time": "2023-12-01T20:21:33.073962Z"
    }
   },
   "id": "yHJTAqrW7XMN",
   "execution_count": 5,
   "outputs": []
  },
  {
   "cell_type": "code",
   "execution_count": 6,
   "id": "6a9329bb",
   "metadata": {
    "id": "6a9329bb",
    "ExecuteTime": {
     "end_time": "2023-12-01T20:21:33.228052Z",
     "start_time": "2023-12-01T20:21:33.096816Z"
    }
   },
   "outputs": [
    {
     "name": "stdout",
     "output_type": "stream",
     "text": [
      "(12474, 2)\n"
     ]
    }
   ],
   "source": [
    "## Checking the shape of data Just to ensure that upsampling was done successfully.\n",
    "upsampled_shape = df_upsampled.shape\n",
    "\n",
    "# print the shape of data set with the help of shape function having \"negative\" as class label\n",
    "print(negative_upsample.shape)"
   ]
  },
  {
   "cell_type": "code",
   "execution_count": 7,
   "id": "bdea8155",
   "metadata": {
    "colab": {
     "base_uri": "https://localhost:8080/"
    },
    "id": "bdea8155",
    "outputId": "c665c4b9-826e-4f4e-e30e-06e0935a0622",
    "ExecuteTime": {
     "end_time": "2023-12-01T20:21:33.228905Z",
     "start_time": "2023-12-01T20:21:33.111399Z"
    }
   },
   "outputs": [
    {
     "name": "stdout",
     "output_type": "stream",
     "text": [
      "(12474, 2)\n"
     ]
    }
   ],
   "source": [
    "## Ensure that the same number of data points are present for both 'positive' and 'negative' data\n",
    "counts = df_upsampled['sentiment'].value_counts()\n",
    "\n",
    "# print the shape of data set with the help of shape function having \"positive\" as class label\n",
    "print(df.loc[df['sentiment'] == 'positive'].shape)"
   ]
  },
  {
   "cell_type": "markdown",
   "source": [
    "# Dataset Splitting"
   ],
   "metadata": {
    "collapsed": false
   },
   "id": "a84f1960b710ac98"
  },
  {
   "cell_type": "code",
   "source": [
    "# Dataset Training and Test split \n",
    "\n",
    "## Considering 10000 positive and 10000 negative data points\n",
    "positive_data_points_train = df_upsampled.loc[df['sentiment'] == 'positive'].iloc[:10000]\n",
    "negative_data_points_train = df_upsampled.loc[df['sentiment'] == 'negative'].iloc[:10000]\n",
    "\n",
    "## Considering the remaining data points for test\n",
    "positive_data_points_test = df_upsampled.loc[df['sentiment'] == 'positive'].iloc[10000:]\n",
    "negative_data_points_test = df_upsampled.loc[df['sentiment'] == 'negative'].iloc[10000:]\n",
    "\n",
    "## Concatenate the training positive and negative reviews\n",
    "X_train = pd.concat([positive_data_points_train['review'], negative_data_points_train['review']])\n",
    "## Concatenating the training positive and negative outputs\n",
    "y_train = pd.concat([positive_data_points_train['sentiment'], negative_data_points_train['sentiment']])\n",
    "\n",
    "## Concatenating the test positive and negative reviews\n",
    "X_test = pd.concat([positive_data_points_test['review'], negative_data_points_test['review']])\n",
    "## Concatenating the test positive and negative outputs\n",
    "y_test = pd.concat([positive_data_points_test['sentiment'], negative_data_points_test['sentiment']])"
   ],
   "metadata": {
    "id": "NoW5z6SzAeP8",
    "ExecuteTime": {
     "end_time": "2023-12-01T20:21:33.229579Z",
     "start_time": "2023-12-01T20:21:33.122850Z"
    }
   },
   "execution_count": 8,
   "outputs": [],
   "id": "NoW5z6SzAeP8"
  },
  {
   "cell_type": "code",
   "execution_count": 9,
   "id": "6428047d",
   "metadata": {
    "colab": {
     "base_uri": "https://localhost:8080/"
    },
    "id": "6428047d",
    "outputId": "10d10601-0ce0-4688-c4d3-75fa386583fd",
    "ExecuteTime": {
     "end_time": "2023-12-01T20:21:33.230359Z",
     "start_time": "2023-12-01T20:21:33.150583Z"
    }
   },
   "outputs": [
    {
     "name": "stdout",
     "output_type": "stream",
     "text": [
      "sentiment\n",
      "positive    10000\n",
      "negative    10000\n",
      "Name: count, dtype: int64\n"
     ]
    }
   ],
   "source": [
    "## Total number of classes and their count\n",
    "print(y_train.value_counts())"
   ]
  },
  {
   "cell_type": "code",
   "execution_count": 10,
   "outputs": [
    {
     "name": "stdout",
     "output_type": "stream",
     "text": [
      "sentiment\n",
      "positive    2474\n",
      "negative    2474\n",
      "Name: count, dtype: int64\n"
     ]
    }
   ],
   "source": [
    "print(y_test.value_counts())"
   ],
   "metadata": {
    "collapsed": false,
    "ExecuteTime": {
     "end_time": "2023-12-01T20:21:33.232852Z",
     "start_time": "2023-12-01T20:21:33.160753Z"
    }
   },
   "id": "95dee9cfdef4b6"
  },
  {
   "cell_type": "markdown",
   "id": "6501699b",
   "metadata": {
    "id": "6501699b"
   },
   "source": [
    "## Pre-processing the Reviews:\n",
    "\n",
    "We know that a review contains links, punctuation, stopwords and many other words that don't give a lot of meaning for the Naive Bayes model for prediction. \n",
    "\n",
    "In the cell below, one must implement text-preprocessing and remove links, punctuations and stopwords. It is also important to lowercase the letters so that 'Admire' and 'admire' are not treated as different words. \n",
    "\n",
    "In addition to this, perform stemming operation so that similar words are reduced.  \n",
    "  \n",
    "### Summary\n",
    "* Removal of stopwords, punctuation\n",
    "* Removal of filler words\n",
    "* Text Normalization\n",
    "* Stemming\n",
    "* HTML Sanitation"
   ]
  },
  {
   "cell_type": "code",
   "execution_count": 11,
   "outputs": [],
   "source": [
    "# stemmer\n",
    "stemmer = PorterStemmer()"
   ],
   "metadata": {
    "collapsed": false,
    "ExecuteTime": {
     "end_time": "2023-12-01T20:21:33.246101Z",
     "start_time": "2023-12-01T20:21:33.166590Z"
    }
   },
   "id": "e3fe6bc8bc63a021"
  },
  {
   "cell_type": "markdown",
   "source": [
    "### Clean review function based on rules mentioned above"
   ],
   "metadata": {
    "collapsed": false
   },
   "id": "f4e60f74a153ad1d"
  },
  {
   "cell_type": "code",
   "source": [
    "def clean_review(review):\n",
    "    '''\n",
    "    Input:\n",
    "        review: a string containing a review.\n",
    "    Output:\n",
    "        review_cleaned: a processed review.\n",
    "    '''\n",
    "\n",
    "    cleaned_review = review\n",
    "\n",
    "    # remove links\n",
    "    cleaned_review = re.sub(r\"<br />\", \"\", cleaned_review)\n",
    "\n",
    "    # punctuation\n",
    "    cleaned_review = re.sub(f\"[{string.punctuation}]\", \"\", cleaned_review)\n",
    "\n",
    "    # lowercase\n",
    "    cleaned_review = cleaned_review.lower()\n",
    "\n",
    "    # tokenize\n",
    "    cleaned_review = word_tokenize(cleaned_review)\n",
    "\n",
    "    # stopwords\n",
    "    cleaned_review = [word for word in cleaned_review if word not in stopwords.words('english')]\n",
    "\n",
    "    # stemming\n",
    "    cleaned_review = [stemmer.stem(token) for token in cleaned_review]\n",
    "\n",
    "    # recombine tokens\n",
    "    cleaned_review = \" \".join(cleaned_review)\n",
    "\n",
    "    return cleaned_review"
   ],
   "metadata": {
    "id": "CirLN9-ddQ1r",
    "ExecuteTime": {
     "end_time": "2023-12-01T20:21:33.246660Z",
     "start_time": "2023-12-01T20:21:33.176219Z"
    }
   },
   "id": "CirLN9-ddQ1r",
   "execution_count": 12,
   "outputs": []
  },
  {
   "cell_type": "markdown",
   "id": "a7632fe5",
   "metadata": {
    "id": "a7632fe5"
   },
   "source": [
    "### Find Occurrence Helper Function:\n",
    "\n",
    "In this function, we find the total occurrence of a word giving information such as label, word and frequency dictionary.\n",
    "\n",
    "Note that this function is used later in the code when we are going to be predicting the output using Naive Bayes. "
   ]
  },
  {
   "cell_type": "code",
   "execution_count": 13,
   "id": "eb282b81",
   "metadata": {
    "id": "eb282b81",
    "ExecuteTime": {
     "end_time": "2023-12-01T20:21:33.247719Z",
     "start_time": "2023-12-01T20:21:33.183240Z"
    }
   },
   "outputs": [],
   "source": [
    "def find_occurrence(frequency, word, label):\n",
    "    '''\n",
    "    Params:\n",
    "        frequency: a dictionary with the frequency of each pair (or tuple)\n",
    "        word: the word to look up\n",
    "        label: the label corresponding to the word\n",
    "\n",
    "        { (word,label):num_occurrence }\n",
    "    Return:\n",
    "        n: the number of times the word with its corresponding label appears.\n",
    "    '''\n",
    "\n",
    "    n = frequency[(word, label)] if (word,label) in frequency else 0\n",
    "\n",
    "    return n\n",
    "\n",
    "# print(find_occurrence({ ('hello', 0) : 10 },'hello', 0))"
   ]
  },
  {
   "cell_type": "markdown",
   "id": "29a2249d",
   "metadata": {
    "id": "29a2249d"
   },
   "source": [
    "### Converting Categorical Data to Numerical Format:\n",
    "\n",
    "We have outputs as 'positive' or 'negative'. In the cell below, we convert it to a numerical format."
   ]
  },
  {
   "cell_type": "code",
   "execution_count": 14,
   "id": "bcdc2b2c",
   "metadata": {
    "id": "bcdc2b2c",
    "ExecuteTime": {
     "end_time": "2023-12-01T20:21:33.249277Z",
     "start_time": "2023-12-01T20:21:33.193510Z"
    }
   },
   "outputs": [],
   "source": [
    "## With the use of mapping function, we replace\n",
    "## the label in the form of string to an integer. \n",
    "\n",
    "output_map = {'positive': 0, 'negative': 1}\n",
    "y_train = y_train.map(output_map)\n",
    "y_test = y_test.map(output_map)"
   ]
  },
  {
   "cell_type": "code",
   "execution_count": 15,
   "id": "3dde0bbd",
   "metadata": {
    "colab": {
     "base_uri": "https://localhost:8080/"
    },
    "id": "3dde0bbd",
    "outputId": "223dfbc1-8efe-4183-b6d7-c9cb025cb285",
    "ExecuteTime": {
     "end_time": "2023-12-01T20:21:33.250787Z",
     "start_time": "2023-12-01T20:21:33.205644Z"
    }
   },
   "outputs": [
    {
     "data": {
      "text/plain": "sentiment\n0    10000\n1    10000\nName: count, dtype: int64"
     },
     "execution_count": 15,
     "metadata": {},
     "output_type": "execute_result"
    }
   ],
   "source": [
    "## Ensuring that there are equal number of classes on the training data. \n",
    "y_train.value_counts()"
   ]
  },
  {
   "cell_type": "code",
   "execution_count": 16,
   "id": "f2959b85",
   "metadata": {
    "colab": {
     "base_uri": "https://localhost:8080/",
     "height": 178
    },
    "id": "f2959b85",
    "outputId": "e514214b-cd57-43fc-875d-1821ddab63f8",
    "ExecuteTime": {
     "end_time": "2023-12-01T20:21:33.261469Z",
     "start_time": "2023-12-01T20:21:33.214433Z"
    }
   },
   "outputs": [
    {
     "data": {
      "text/plain": "'The Sunshine Boys is one of my favorite feel good movies. I first saw it when it as the Christmas attraction at Radio City Music Hall when it first came out and loved it ever since. I ended up seeing it 6 times in the theaters, and if it was playing today I\\'d go out to see it again.<br /><br />Now a lot of the reviews here mentioned the wonderful performances of the leads. Matthau was brilliant, but had the misfortune of being nominated against Jack Nicholson\\'s Oscar winning performance of Randall P. MacMurphy in \"One Flew Over the Cuckoo\\'s nest. Burns did win, though Richard Benjiman deserved at least to be nominated as well. Even the smallest roles were played to perfection, like Fritz Feld auditioning for the potato chips commercial. <br /><br />Which brings me to my reason for reviewing this film, the direction of the greatly underrated Herbert Ross. Ross who previously brought a two person play, \"The Owl And The Pussycat\" to the screen and made a full movie out of it, does it again. He opens the plays out without making them look like a photographic stage play. He fleashens out the story and the characters.<br /><br />Here we\\'re 20 minutes into the film before we get to the scene that opens the play, where Ben Clark comes to see his uncle and tell him about the comedy special. Though there are dialogue from the play during the first twenty minutes, the sequence itself is totally new. A few years ago I did see at the broadway revival of the play with Jack Klugman and Tony Randall, which was wonderful. But I think that Ross and screenwriter, playwright Simon improved on it. It\\'s just a wonderful film.'"
     },
     "execution_count": 16,
     "metadata": {},
     "output_type": "execute_result"
    }
   ],
   "source": [
    "## Choosing a random review and taking a look at it.\n",
    "X_train.iloc[0]"
   ]
  },
  {
   "cell_type": "markdown",
   "id": "ed5e43c9",
   "metadata": {
    "id": "ed5e43c9"
   },
   "source": [
    "From the above cell output, it could be seen that there are a lot of words that don't add a lot of meaning to the text. \n",
    "\n",
    "Therefore, those words would be removed. It also reduces the computation time. \n",
    "\n",
    "Therefore, it is a good practice we are following."
   ]
  },
  {
   "cell_type": "code",
   "execution_count": 17,
   "id": "ad3937ea",
   "metadata": {
    "colab": {
     "base_uri": "https://localhost:8080/"
    },
    "id": "ad3937ea",
    "outputId": "68985efe-32cd-4c11-ed5b-2e1e1b297e73",
    "ExecuteTime": {
     "end_time": "2023-12-01T20:21:33.580191Z",
     "start_time": "2023-12-01T20:21:33.222762Z"
    }
   },
   "outputs": [
    {
     "name": "stdout",
     "output_type": "stream",
     "text": [
      "sunshin boy one favorit feel good movi first saw christma attract radio citi music hall first came love ever sinc end see 6 time theater play today id go see againnow lot review mention wonder perform lead matthau brilliant misfortun nomin jack nicholson oscar win perform randal p macmurphi one flew cuckoo nest burn win though richard benjiman deserv least nomin well even smallest role play perfect like fritz feld audit potato chip commerci bring reason review film direct greatli underr herbert ross ross previous brought two person play owl pussycat screen made full movi open play without make look like photograph stage play fleashen stori charactersher 20 minut film get scene open play ben clark come see uncl tell comedi special though dialogu play first twenti minut sequenc total new year ago see broadway reviv play jack klugman toni randal wonder think ross screenwrit playwright simon improv wonder film\n"
     ]
    }
   ],
   "source": [
    "custom_review = X_train.iloc[0]\n",
    "\n",
    "# print cleaned review\n",
    "print(clean_review(custom_review))"
   ]
  },
  {
   "cell_type": "markdown",
   "id": "3e6cc440",
   "metadata": {
    "id": "3e6cc440"
   },
   "source": [
    "We now use this function to pre-process the review and remove words that don't add a lot of meaning in our model. "
   ]
  },
  {
   "cell_type": "markdown",
   "id": "5a762960",
   "metadata": {
    "id": "5a762960"
   },
   "source": [
    "## Implementation\n",
    "\n",
    "It is now time to implement the count function for the reviews. \n",
    "\n",
    "In this function, we count the occurrence of words and get the probabilities \n",
    "for the words based on the training data. \n",
    "\n",
    "In other words, we get the probability of occurrence of a word, given that the output is 'positive'.\n",
    "\n",
    "Similarly, we also compute the probability of occurence of a word, given that the output is 'negative'.\n",
    "\n"
   ]
  },
  {
   "cell_type": "code",
   "execution_count": 18,
   "id": "5de61f77",
   "metadata": {
    "id": "5de61f77",
    "ExecuteTime": {
     "end_time": "2023-12-01T20:21:33.581054Z",
     "start_time": "2023-12-01T20:21:33.344169Z"
    }
   },
   "outputs": [],
   "source": [
    "def review_counter(output_occurrence, reviews, positive_or_negative):\n",
    "    '''\n",
    "    Params:\n",
    "        output_occurrence: a dictionary that will be used to map each pair to its frequency\n",
    "        reviews: a list of reviews\n",
    "        positive_or_negative: a list corresponding to the sentiment of each review (either 0 or 1)\n",
    "    Return:\n",
    "        output: a dictionary mapping each pair to its frequency\n",
    "    '''\n",
    "    ## Steps :\n",
    "    # define the key, which is the word and label tuple\n",
    "    # if the key exists in the dictionary, increment the count\n",
    "    # else, if the key is new, add it to the dictionary and set the count to 1\n",
    "    \n",
    "    for label, review in zip(positive_or_negative, reviews):\n",
    "      split_review = clean_review(review).split()\n",
    "      for word in split_review:\n",
    "        key = (word, label)\n",
    "        output_occurrence[key] = output_occurrence[key] + 1 if key in output_occurrence else 1\n",
    "    return output_occurrence"
   ]
  },
  {
   "cell_type": "markdown",
   "id": "18238223",
   "metadata": {
    "id": "18238223"
   },
   "source": [
    "### Testing with example reviews:"
   ]
  },
  {
   "cell_type": "code",
   "execution_count": 19,
   "id": "07a4c58a",
   "metadata": {
    "colab": {
     "base_uri": "https://localhost:8080/"
    },
    "id": "07a4c58a",
    "outputId": "dd9e148a-34a9-4cfe-9077-c5de33493d7a",
    "ExecuteTime": {
     "end_time": "2023-12-01T20:21:33.595764Z",
     "start_time": "2023-12-01T20:21:33.351709Z"
    }
   },
   "outputs": [
    {
     "data": {
      "text/plain": "{('got', 1): 1,\n ('bore', 1): 2,\n ('throught', 1): 1,\n ('moview', 1): 1,\n ('movi', 0): 2,\n ('fantast', 0): 1,\n ('watch', 1): 1,\n ('complet', 1): 1,\n ('wast', 1): 1,\n ('time', 1): 1,\n ('money', 1): 1,\n ('enjoy', 0): 1,\n ('fullest', 0): 1}"
     },
     "execution_count": 19,
     "metadata": {},
     "output_type": "execute_result"
    }
   ],
   "source": [
    "# Testing the function\n",
    "\n",
    "result = {}\n",
    "reviews = ['got bored throught the moview', 'The movie was fantastic', 'Will not watch it again', 'Was bored, it was a complete waste of time and money', 'Enjoyed the movie to the fullest']\n",
    "ys = [1, 0, 1, 1, 0]\n",
    "review_counter(result,reviews, ys)"
   ]
  },
  {
   "cell_type": "markdown",
   "id": "927f89bb",
   "metadata": {
    "id": "927f89bb"
   },
   "source": [
    "### Expected Output:\n",
    " {('bored', 1): 2, <br>\n",
    " ('complete', 1): 1, <br>\n",
    " ('enjoyed', 0): 1, <br>\n",
    " ('fantastic', 0): 1, <br>\n",
    " ('fullest', 0): 1, <br>\n",
    " ('got', 1): 1, <br>\n",
    " ('money', 1): 1, <br>\n",
    " ('movie', 0): 2, <br>\n",
    " ('moview', 1): 1, <br>\n",
    " ('throught', 1): 1, <br>\n",
    " ('time', 1): 1, <br>\n",
    " ('waste', 1): 1, <br>\n",
    " ('watch', 1): 1}"
   ]
  },
  {
   "cell_type": "markdown",
   "source": [
    "### Frequency Dictionary:\n",
    " Frequency dictionary of words is another tool we will use to understand how certain words are associated with negative reviews, and positive"
   ],
   "metadata": {
    "collapsed": false
   },
   "id": "6e0e96bb6397e1c"
  },
  {
   "cell_type": "code",
   "execution_count": 20,
   "id": "9bc62e13",
   "metadata": {
    "id": "9bc62e13",
    "ExecuteTime": {
     "end_time": "2023-12-01T20:31:04.675049Z",
     "start_time": "2023-12-01T20:21:33.374612Z"
    }
   },
   "outputs": [],
   "source": [
    "# Build the freqs dictionary for later uses\n",
    "\n",
    "freqs = review_counter({}, X_train, y_train)"
   ]
  },
  {
   "cell_type": "code",
   "execution_count": 21,
   "id": "0eddf420",
   "metadata": {
    "id": "0eddf420",
    "ExecuteTime": {
     "end_time": "2023-12-01T20:31:04.718612Z",
     "start_time": "2023-12-01T20:31:04.688828Z"
    }
   },
   "outputs": [
    {
     "data": {
      "text/plain": "{('sunshin', 0): 27,\n ('boy', 0): 912,\n ('one', 0): 10731,\n ('favorit', 0): 865,\n ('feel', 0): 2255,\n ('good', 0): 5910,\n ('movi', 0): 17222,\n ('first', 0): 3476,\n ('saw', 0): 1368,\n ('christma', 0): 146,\n ('attract', 0): 298,\n ('radio', 0): 208,\n ('citi', 0): 640,\n ('music', 0): 2093,\n ('hall', 0): 143,\n ('came', 0): 738,\n ('love', 0): 4803,\n ('ever', 0): 2111,\n ('sinc', 0): 1171,\n ('end', 0): 3573,\n ('see', 0): 5803,\n ('6', 0): 118,\n ('time', 0): 6162,\n ('theater', 0): 390,\n ('play', 0): 3986,\n ('today', 0): 730,\n ('id', 0): 440,\n ('go', 0): 3249,\n ('againnow', 0): 1,\n ('lot', 0): 1980,\n ('review', 0): 698,\n ('mention', 0): 501,\n ('wonder', 0): 1797,\n ('perform', 0): 2726,\n ('lead', 0): 1115,\n ('matthau', 0): 91,\n ('brilliant', 0): 710,\n ('misfortun', 0): 15,\n ('nomin', 0): 245,\n ('jack', 0): 421,\n ('nicholson', 0): 48,\n ('oscar', 0): 440,\n ('win', 0): 396,\n ('randal', 0): 30,\n ('p', 0): 22,\n ('macmurphi', 0): 1,\n ('flew', 0): 24,\n ('cuckoo', 0): 16,\n ('nest', 0): 27,\n ('burn', 0): 177,\n ('though', 0): 1785,\n ('richard', 0): 366,\n ('benjiman', 0): 1,\n ('deserv', 0): 496,\n ('least', 0): 816,\n ('well', 0): 4636,\n ('even', 0): 3758,\n ('smallest', 0): 14,\n ('role', 0): 1916,\n ('perfect', 0): 1069,\n ('like', 0): 7908,\n ('fritz', 0): 24,\n ('feld', 0): 2,\n ('audit', 0): 37,\n ('potato', 0): 15,\n ('chip', 0): 38,\n ('commerci', 0): 130,\n ('bring', 0): 827,\n ('reason', 0): 872,\n ('film', 0): 19724,\n ('direct', 0): 1396,\n ('greatli', 0): 87,\n ('underr', 0): 161,\n ('herbert', 0): 26,\n ('ross', 0): 35,\n ('previous', 0): 90,\n ('brought', 0): 358,\n ('two', 0): 2792,\n ('person', 0): 1388,\n ('owl', 0): 29,\n ('pussycat', 0): 2,\n ('screen', 0): 1110,\n ('made', 0): 2862,\n ('full', 0): 703,\n ('open', 0): 860,\n ('without', 0): 1336,\n ('make', 0): 5236,\n ('look', 0): 3215,\n ('photograph', 0): 152,\n ('stage', 0): 409,\n ('fleashen', 0): 1,\n ('stori', 0): 5453,\n ('charactersher', 0): 2,\n ('20', 0): 238,\n ('minut', 0): 841,\n ('get', 0): 5066,\n ('scene', 0): 3927,\n ('ben', 0): 215,\n ('clark', 0): 96,\n ('come', 0): 2665,\n ('uncl', 0): 150,\n ('tell', 0): 1248,\n ('comedi', 0): 1501,\n ('special', 0): 800,\n ('dialogu', 0): 503,\n ('twenti', 0): 96,\n ('sequenc', 0): 652,\n ('total', 0): 616,\n ('new', 0): 1874,\n ('year', 0): 2901,\n ('ago', 0): 447,\n ('broadway', 0): 94,\n ('reviv', 0): 40,\n ('klugman', 0): 3,\n ('toni', 0): 253,\n ('think', 0): 3388,\n ('screenwrit', 0): 60,\n ('playwright', 0): 22,\n ('simon', 0): 114,\n ('improv', 0): 129,\n ('excel', 0): 1465,\n ('warner', 0): 102,\n ('bro', 0): 38,\n ('effort', 0): 310,\n ('star', 0): 1592,\n ('errol', 0): 39,\n ('flynn', 0): 91,\n ('best', 0): 3336,\n ('often', 0): 768,\n ('cite', 0): 11,\n ('cant', 0): 1163,\n ('realli', 0): 4218,\n ('judg', 0): 215,\n ('fulli', 0): 187,\n ('seen', 0): 2669,\n ('dawn', 0): 60,\n ('patrol', 0): 11,\n ('howev', 0): 1251,\n ('work', 0): 2857,\n ('die', 0): 699,\n ('boot', 0): 69,\n ('take', 0): 2713,\n ('beat', 0): 262,\n ('im', 0): 1446,\n ('big', 0): 1364,\n ('fan', 0): 1336,\n ('he', 0): 1058,\n ('favourit', 0): 184,\n ('actor', 0): 2417,\n ('jame', 0): 483,\n ('masonit', 0): 1,\n ('also', 0): 4199,\n ('help', 0): 1147,\n ('aussi', 0): 43,\n ('marvel', 0): 196,\n ('great', 0): 5048,\n ('presenc', 0): 184,\n ('centrepiec', 0): 2,\n ('gentleman', 0): 69,\n ('jim', 0): 200,\n ('legendari', 0): 95,\n ('boxer', 0): 33,\n ('fanci', 0): 70,\n ('footwork', 0): 3,\n ('back', 0): 1910,\n ('liter', 0): 221,\n ('warm', 0): 158,\n ('funni', 0): 1580,\n ('script', 0): 779,\n ('raoul', 0): 21,\n ('walsh', 0): 48,\n ('everi', 0): 1605,\n ('never', 0): 2479,\n ('lose', 0): 324,\n ('pace', 0): 475,\n ('truli', 0): 796,\n ('born', 0): 150,\n ('filmmak', 0): 407,\n ('ring', 0): 188,\n ('beauti', 0): 1865,\n ('lighter', 0): 28,\n ('moment', 0): 1113,\n ('poignant', 0): 108,\n ('final', 0): 1284,\n ('ward', 0): 56,\n ('bord', 0): 1,\n ('add', 0): 484,\n ('product', 0): 841,\n ('valu', 0): 336,\n ('gay', 0): 236,\n ('nineti', 0): 15,\n ('better', 0): 1829,\n ('support', 0): 737,\n ('cast', 0): 1805,\n ('pretti', 0): 1148,\n ('much', 0): 3635,\n ('entertain', 0): 1187,\n ('alan', 0): 138,\n ('hale', 0): 22,\n ('usual', 0): 767,\n ('sidekick', 0): 48,\n ('father', 0): 947,\n ('still', 0): 2603,\n ('alexi', 0): 13,\n ('smith', 0): 235,\n ('interest', 0): 1867,\n ('pair', 0): 173,\n ('head', 0): 650,\n ('heel', 0): 32,\n ('fight', 0): 741,\n ('1950', 0): 116,\n ('stylish', 0): 78,\n ('kim', 0): 83,\n ('novak', 0): 32,\n ('intrigu', 0): 244,\n ('compel', 0): 228,\n ('modernday', 0): 16,\n ('witch', 0): 104,\n ('foot', 0): 85,\n ('manhattan', 0): 59,\n ('anoth', 0): 1543,\n ('infin', 0): 3,\n ('terrif', 0): 283,\n ('lemmon', 0): 63,\n ('bother', 0): 121,\n ('nicki', 0): 15,\n ('erni', 0): 20,\n ('kovac', 0): 5,\n ('author', 0): 212,\n ('magic', 0): 302,\n ('mexico', 0): 79,\n ('manghattan', 0): 1,\n ('elsa', 0): 16,\n ('lanchest', 0): 5,\n ('slightli', 0): 226,\n ('batti', 0): 5,\n ('witchi', 0): 4,\n ('aunt', 0): 80,\n ('queeni', 0): 5,\n ('cat', 0): 231,\n ('idea', 0): 767,\n ('mani', 0): 3071,\n ('besid', 0): 147,\n ('name', 0): 983,\n ('pyewacket', 0): 3,\n ('suggest', 0): 304,\n ('zillion', 0): 7,\n ('jme', 0): 1,\n ('stewart', 0): 221,\n ('place', 0): 1139,\n ('charact', 0): 5435,\n ('weird', 0): 230,\n ('subworld', 0): 2,\n ('witchcraft', 0): 14,\n ('romant', 0): 422,\n ('happi', 0): 530,\n ('believ', 0): 1424,\n ('vintag', 0): 21,\n ('gillian', 0): 22,\n ('shep', 0): 4,\n ('certainli', 0): 679,\n ('chanc', 0): 525,\n ('rose', 0): 135,\n ('charli', 0): 193,\n ('allnut', 0): 1,\n ('african', 0): 91,\n ('queen', 0): 151,\n ('night', 0): 898,\n ('live', 0): 2065,\n ('homeless', 0): 47,\n ('fairli', 0): 210,\n ('strong', 0): 574,\n ('finish', 0): 241,\n ('half', 0): 533,\n ('season', 0): 481,\n ('11', 0): 88,\n ('obvious', 0): 344,\n ('parodi', 0): 110,\n ('variou', 0): 277,\n ('zombi', 0): 188,\n ('notabl', 0): 112,\n ('dead', 0): 561,\n ('episod', 0): 1074,\n ('parallel', 0): 88,\n ('creatur', 0): 166,\n ('feed', 0): 53,\n ('thrive', 0): 14,\n ('spare', 0): 54,\n ('chang', 0): 890,\n ('rather', 0): 1025,\n ('brainskyl', 0): 1,\n ('blame', 0): 104,\n ('sudden', 0): 79,\n ('mass', 0): 78,\n ('outbreak', 0): 11,\n ('peopl', 0): 3484,\n ('heart', 0): 712,\n ('give', 0): 2316,\n ('man', 0): 2487,\n ('front', 0): 226,\n ('hous', 0): 762,\n ('begin', 0): 1162,\n ('infiltr', 0): 19,\n ('south', 0): 228,\n ('park', 0): 233,\n ('town', 0): 512,\n ('complet', 0): 894,\n ('overrun', 0): 5,\n ('randi', 0): 38,\n ('marsh', 0): 10,\n ('assum', 0): 125,\n ('shotgunwield', 0): 1,\n ('leader', 0): 153,\n ('adult', 0): 380,\n ('refug', 0): 15,\n ('roof', 0): 48,\n ('counti', 0): 22,\n ('commun', 0): 255,\n ('center', 0): 172,\n ('accost', 0): 4,\n ('hundr', 0): 100,\n ('hilari', 0): 576,\n ('scream', 0): 163,\n ('dont', 0): 2664,\n ('unfortun', 0): 367,\n ('refuge', 0): 30,\n ('gerald', 0): 15,\n ('broflofski', 0): 1,\n ('tri', 0): 1936,\n ('escap', 0): 373,\n ('catch', 0): 273,\n ('bu', 0): 73,\n ('unwittingli', 0): 15,\n ('toss', 0): 36,\n ('away', 0): 1008,\n ('distract', 0): 88,\n ('becom', 0): 1377,\n ('ask', 0): 532,\n ('everyon', 0): 958,\n ('changeth', 0): 1,\n ('attempt', 0): 494,\n ('find', 0): 2312,\n ('director', 0): 1660,\n ('studi', 0): 201,\n ('nearbi', 0): 44,\n ('evergreen', 0): 7,\n ('use', 0): 2011,\n ('similar', 0): 448,\n ('problem', 0): 792,\n ('solv', 0): 103,\n ('break', 0): 390,\n ('easi', 0): 393,\n ('way', 0): 3484,\n ('shoot', 0): 326,\n ('fail', 0): 290,\n ('sever', 0): 707,\n ('jaw', 0): 56,\n ('eye', 0): 861,\n ('chest', 0): 32,\n ('neck', 0): 47,\n ('shoulder', 0): 55,\n ('horribl', 0): 165,\n ('may', 0): 1493,\n ('funnier', 0): 61,\n ('happen', 0): 1298,\n ('fantast', 0): 487,\n ('easter', 0): 6,\n ('week', 0): 253,\n ('agomeanwhil', 0): 1,\n ('member', 0): 337,\n ('discov', 0): 427,\n ('due', 0): 392,\n ('properti', 0): 40,\n ('nosediv', 0): 1,\n ('thu', 0): 166,\n ('bank', 0): 110,\n ('foreclos', 0): 1,\n ('immedi', 0): 231,\n ('turn', 0): 1397,\n ('hold', 0): 470,\n ('gun', 0): 267,\n ('beg', 0): 53,\n ('other', 0): 732,\n ('buck', 0): 85,\n ('pull', 0): 389,\n ('triggerin', 0): 1,\n ('citizen', 0): 113,\n ('sent', 0): 179,\n ('pass', 0): 320,\n ('countri', 0): 502,\n ('modifi', 0): 9,\n ('santa', 0): 53,\n ('monica', 0): 35,\n ('californiath', 0): 1,\n ('line', 0): 1090,\n ('definit', 0): 931,\n ('rewatch', 0): 33,\n ('810', 0): 111,\n ('rememb', 0): 862,\n ('game', 0): 804,\n ('alway', 0): 1645,\n ('sit', 0): 338,\n ('shelv', 0): 19,\n ('alon', 0): 364,\n ('day', 0): 1612,\n ('decid', 0): 599,\n ('someth', 0): 1658,\n ('got', 0): 1280,\n ('stare', 0): 55,\n ('awe', 0): 50,\n ('ps1', 0): 4,\n ('own', 0): 85,\n ('4', 0): 224,\n ('disc', 0): 60,\n ('couldnt', 0): 375,\n ('put', 0): 1204,\n ('control', 0): 292,\n ('seriouslyth', 0): 3,\n ('storylin', 0): 270,\n ('twist', 0): 516,\n ('almost', 0): 1237,\n ('fantasi', 0): 266,\n ('vii', 0): 9,\n ('hard', 0): 904,\n ('accomplish', 0): 121,\n ('involv', 0): 767,\n ('unbeliev', 0): 99,\n ('movietoo', 0): 3,\n ('bad', 0): 1441,\n ('unheard', 0): 8,\n ('bare', 0): 135,\n ('50', 0): 181,\n ('sign', 0): 162,\n ('sell', 0): 172,\n ('heck', 0): 64,\n ('catalog', 0): 12,\n ('differ', 0): 1412,\n ('fantasylegend', 0): 1,\n ('dragoon', 0): 7,\n ('rpg', 0): 12,\n ('squar', 0): 50,\n ('enix', 0): 3,\n ('surprisingli', 0): 228,\n ('wouldnt', 0): 296,\n ('surpris', 0): 951,\n ('hardli', 0): 163,\n ('seri', 0): 1422,\n ('dragon', 0): 66,\n ('quest', 0): 89,\n ('bug', 0): 110,\n ('littl', 0): 2556,\n ('known', 0): 451,\n ('prais', 0): 120,\n ('begraph', 0): 1,\n ('expect', 0): 1040,\n ('1999', 0): 37,\n ('alreadi', 0): 474,\n ('amaz', 0): 897,\n ('actionsa', 0): 1,\n ('10', 0): 790,\n ('done', 0): 1194,\n ('compani', 0): 219,\n ('ah', 0): 33,\n ('domino', 0): 42,\n ('actual', 0): 1678,\n ('breath', 0): 133,\n ('fresh', 0): 232,\n ('air', 0): 358,\n ('cinema', 0): 647,\n ('world', 0): 1870,\n ('enjoy', 0): 2129,\n ('intric', 0): 32,\n ('plot', 0): 1894,\n ('vari', 0): 55,\n ('intens', 0): 322,\n ('camera', 0): 513,\n ('effect', 0): 1327,\n ('ive', 0): 1180,\n ('complain', 0): 135,\n ('fact', 0): 1315,\n ('accord', 0): 101,\n ('creator', 0): 80,\n ('flashi', 0): 26,\n ('wild', 0): 234,\n ('shot', 0): 1010,\n ('culmin', 0): 30,\n ('mistak', 0): 161,\n ('desir', 0): 226,\n ('perhap', 0): 599,\n ('quit', 0): 1650,\n ('although', 0): 1074,\n ('that', 0): 1137,\n ('set', 0): 1607,\n ('apart', 0): 362,\n ('deeper', 0): 99,\n ('aspect', 0): 349,\n ('thing', 0): 2726,\n ('itwhen', 0): 2,\n ('anyth', 0): 840,\n ('despit', 0): 540,\n ('messi', 0): 13,\n ('natur', 0): 678,\n ('rapid', 0): 24,\n ('form', 0): 452,\n ('storytel', 0): 106,\n ('isnt', 0): 1013,\n ('follow', 0): 954,\n ('focu', 0): 205,\n ('what', 0): 255,\n ('mayb', 0): 739,\n ('act', 0): 2670,\n ('etc', 0): 380,\n ('interpret', 0): 164,\n ('pick', 0): 411,\n ('said', 0): 783,\n ('inde', 0): 312,\n ('futur', 0): 376,\n ('cultclass', 0): 5,\n ('blockbust', 0): 72,\n ('whateverand', 0): 1,\n ('there', 0): 915,\n ('doubt', 0): 344,\n ('fine', 0): 661,\n ('job', 0): 1154,\n ('portray', 0): 933,\n ('ladi', 0): 435,\n ('gentlemen', 0): 27,\n ('uniqu', 0): 391,\n ('plu', 0): 229,\n ('wit', 0): 307,\n ('small', 0): 714,\n ('piec', 0): 666,\n ('basic', 0): 420,\n ('charactersal', 0): 3,\n ('bash', 0): 39,\n ('doesnt', 0): 1493,\n ('appeal', 0): 288,\n ('matter', 0): 582,\n ('right', 0): 1393,\n ('period', 0): 373,\n ('johnni', 0): 153,\n ('june', 0): 48,\n ('carter', 0): 54,\n ('cash', 0): 70,\n ('financ', 0): 31,\n ('tradit', 0): 264,\n ('render', 0): 78,\n ('gospel', 0): 14,\n ('real', 0): 1993,\n ('jesu', 0): 70,\n ('part', 0): 2010,\n ('mari', 0): 240,\n ('magdalen', 0): 4,\n ('passion', 0): 247,\n ('narrat', 0): 172,\n ('toobut1', 0): 1,\n ('miscast', 0): 32,\n ('2', 0): 599,\n ('edg', 0): 244,\n ('faith', 0): 240,\n ('base', 0): 641,\n ('3', 0): 380,\n ('uncompel', 0): 1,\n ('wide', 0): 153,\n ('distribut', 0): 59,\n ('againid', 0): 1,\n ('buy', 0): 385,\n ('cdtom', 0): 1,\n ('pain', 0): 290,\n ('texa', 0): 118,\n ('usa', 0): 86,\n ('probabl', 0): 1068,\n ('750', 0): 3,\n ('budget', 0): 448,\n ('manag', 0): 607,\n ('surpass', 0): 54,\n ('titan', 0): 90,\n ('rent', 0): 306,\n ('crash', 0): 137,\n ('mom', 0): 147,\n ('car', 0): 541,\n ('cheer', 0): 98,\n ('beyond', 0): 295,\n ('belief', 0): 95,\n ('tie', 0): 145,\n ('assult', 0): 1,\n ('killer', 0): 447,\n ('bimbo', 0): 9,\n ('1', 0): 274,\n ('drive', 0): 308,\n ('blow', 0): 163,\n ('chines', 0): 166,\n ('girl', 0): 1356,\n ('bleach', 0): 7,\n ('blond', 0): 102,\n ('sassoon', 0): 1,\n ('shirt', 0): 28,\n ('flinstonelik', 0): 1,\n ('screech', 0): 11,\n ('clash', 0): 43,\n ('ensembl', 0): 83,\n ('worn', 0): 29,\n ('redhead', 0): 14,\n ('kill', 0): 1083,\n ('worri', 0): 138,\n ('ruin', 0): 120,\n ('soooo', 0): 4,\n ('predict', 0): 238,\n ('5', 0): 259,\n ('guy', 0): 1421,\n ('necessari', 0): 140,\n ('howl', 0): 20,\n ('mental', 0): 194,\n ('patient', 0): 201,\n ('convinc', 0): 353,\n ('insan', 0): 162,\n ('poke', 0): 37,\n ('maniquen', 0): 1,\n ('7', 0): 210,\n ('hour', 0): 615,\n ('long', 0): 1311,\n ('chase', 0): 277,\n ('teacher', 0): 162,\n ('priest', 0): 94,\n ('8', 0): 217,\n ('womman', 0): 1,\n ('write', 0): 612,\n ('grafitti', 0): 3,\n ('bathroom', 0): 43,\n ('wall', 0): 184,\n ('9', 0): 150,\n ('last', 0): 1252,\n ('effectsespeci', 0): 1,\n ('stab', 0): 43,\n ('boob', 0): 19,\n ('heaven', 0): 145,\n ('pop', 0): 183,\n ('noiseenjoy', 0): 1,\n ('caught', 0): 251,\n ('scifi', 0): 205,\n ('channel', 0): 175,\n ('recent', 0): 505,\n ('decent', 0): 247,\n ('far', 0): 959,\n ('blist', 0): 1,\n ('horrorsuspens', 0): 2,\n ('naiv', 0): 89,\n ('loud', 0): 131,\n ('mouth', 0): 102,\n ('road', 0): 203,\n ('trip', 0): 218,\n ('stop', 0): 506,\n ('wed', 0): 112,\n ('worst', 0): 182,\n ('possibl', 0): 632,\n ('luck', 0): 85,\n ('maniac', 0): 42,\n ('freaki', 0): 20,\n ('makeshift', 0): 6,\n ('tanktruck', 0): 1,\n ('hybrid', 0): 19,\n ('catandmous', 0): 7,\n ('complic', 0): 130,\n ('ridicul', 0): 184,\n ('whorish', 0): 1,\n ('hitchhik', 0): 18,\n ('combin', 0): 255,\n ('terror', 0): 136,\n ('unlik', 0): 403,\n ('likabl', 0): 161,\n ('enough', 0): 1139,\n ('chasesuspens', 0): 1,\n ('nice', 0): 1011,\n ('comic', 0): 500,\n ('passabl', 0): 20,\n ('horrorslash', 0): 1,\n ('buff', 0): 75,\n ('worth', 0): 987,\n ('check', 0): 390,\n ('60', 0): 170,\n ('age', 0): 751,\n ('learn', 0): 661,\n ('watch', 0): 4976,\n ('identif', 0): 8,\n ('whether', 0): 344,\n ('want', 0): 2301,\n ('implicit', 0): 3,\n ('specif', 0): 118,\n ('charactersometim', 0): 1,\n ('execut', 0): 200,\n ('certain', 0): 364,\n ('gestur', 0): 38,\n ('sometim', 0): 597,\n ('speak', 0): 376,\n ('determin', 0): 131,\n ('word', 0): 693,\n ('sentenc', 0): 61,\n ('â\\x96', 0): 454,\n ('would', 0): 4214,\n ('situationth', 0): 3,\n ('question', 0): 567,\n ('point', 0): 1329,\n ('view', 0): 1015,\n ('space', 0): 284,\n ('malldowntown', 0): 1,\n ('street', 0): 423,\n ('taken', 0): 425,\n ('whose', 0): 463,\n ('driver', 0): 98,\n ('worldwho', 0): 1,\n ('hasnt', 0): 160,\n ('urg', 0): 57,\n ('rubber', 0): 19,\n ('ill', 0): 396,\n ('manner', 0): 247,\n ('spathaven', 0): 1,\n ('identifi', 0): 104,\n ('della', 0): 9,\n ('bassing', 0): 5,\n ('answer', 0): 252,\n ('ye', 0): 501,\n ('absurd', 0): 91,\n ('detail', 0): 423,\n ('compar', 0): 419,\n ('life', 0): 2898,\n ('realiti', 0): 507,\n ('youll', 0): 586,\n ('ridiculousabstract', 0): 1,\n ('grab', 0): 97,\n ('box', 0): 274,\n ('tool', 0): 28,\n ('trunk', 0): 11,\n ('contain', 0): 313,\n ('have', 0): 2,\n ('gut', 0): 67,\n ('terri', 0): 46,\n ('whilst', 0): 114,\n ('fall', 0): 735,\n ('chucki', 0): 36,\n ('mermaid', 0): 11,\n ('callif', 0): 1,\n ('plan', 0): 337,\n ('keep', 0): 1115,\n ('mind', 0): 860,\n ('realist', 0): 449,\n ('fiction', 0): 277,\n ('polit', 0): 448,\n ('wash', 0): 59,\n ('soulâ', 0): 1,\n ('exemplifi', 0): 16,\n ('quot', 0): 122,\n ('tropa', 0): 1,\n ('de', 0): 319,\n ('eliteaccord', 0): 1,\n ('newspap', 0): 51,\n ('unanim', 0): 5,\n ('applaus', 0): 20,\n ('bope', 0): 1,\n ('offici', 0): 95,\n ('attitud', 0): 166,\n ('dvd', 0): 1204,\n ('could', 0): 2337,\n ('ascertain', 0): 5,\n ('audienc', 0): 1009,\n ('reactionâ', 0): 1,\n ('susan', 0): 90,\n ('monford', 0): 1,\n ('luka', 0): 14,\n ('haa', 0): 5,\n ('craig', 0): 65,\n ('scheffer', 0): 1,\n ('edit', 0): 387,\n ('william', 0): 384,\n ('anderson', 0): 103,\n ('poet', 0): 26,\n ('societi', 0): 339,\n ('green', 0): 199,\n ('card', 0): 78,\n ('except', 0): 565,\n ('robocop', 0): 15,\n ('situat', 0): 536,\n ('context', 0): 89,\n ('scale', 0): 75,\n ('1aw', 0): 1,\n ('10master', 0): 1,\n ('rate', 0): 706,\n ('7regular', 0): 1,\n ('standout', 0): 56,\n ('debra', 0): 23,\n ('paget', 0): 13,\n ('princessdanc', 0): 1,\n ('michael', 0): 534,\n ('renni', 0): 10,\n ('villain', 0): 342,\n ('handsom', 0): 109,\n ('young', 0): 1785,\n ('jeffrey', 0): 33,\n ('hunter', 0): 116,\n ('investig', 0): 160,\n ('crime', 0): 393,\n ('cityst', 0): 1,\n ('unusu', 0): 197,\n ('color', 0): 375,\n ('adventur', 0): 381,\n ('princess', 0): 89,\n ('rehears', 0): 29,\n ('danc', 0): 667,\n ('later', 0): 974,\n ('skewer', 0): 9,\n ('side', 0): 619,\n ('photographi', 0): 205,\n ('costum', 0): 269,\n ('travilla', 0): 1,\n ('lionel', 0): 37,\n ('newman', 0): 49,\n ('style', 0): 733,\n ('rous', 0): 33,\n ('action', 0): 1353,\n ('intellig', 0): 356,\n ('character', 0): 93,\n ('veteran', 0): 120,\n ('harmon', 0): 12,\n ('jone', 0): 170,\n ('drayson', 0): 1,\n ('adam', 0): 143,\n ('1249', 0): 1,\n ('ad', 0): 297,\n ('ingredi', 0): 52,\n ('grecian', 0): 3,\n ('neareastern', 0): 1,\n ('welldevelop', 0): 12,\n ('swift', 0): 19,\n ('wellmanag', 0): 1,\n ('physic', 0): 246,\n ('superior', 0): 144,\n ('technic', 0): 169,\n ('classicallytrain', 0): 1,\n ('ansara', 0): 3,\n ('edgar', 0): 44,\n ('barrier', 0): 30,\n ('walli', 0): 10,\n ('cassel', 0): 20,\n ('elam', 0): 4,\n ('dona', 0): 2,\n ('drake', 0): 49,\n ('commonli', 0): 10,\n ('found', 0): 1040,\n ('b', 0): 196,\n ('togeth', 0): 965,\n ('fascin', 0): 319,\n ('varieti', 0): 106,\n ('local', 0): 387,\n ('mysteri', 0): 516,\n ('qualiti', 0): 524,\n ('suppli', 0): 53,\n ('assess', 0): 16,\n ('guarante', 0): 75,\n ('experi', 0): 732,\n ('choos', 0): 145,\n ('undergo', 0): 19,\n ('event', 0): 582,\n ('resound', 0): 10,\n ('case', 0): 593,\n ('remain', 0): 415,\n ('choic', 0): 294,\n ('veryunderr', 0): 1,\n ('cinemat', 0): 185,\n ('us', 0): 1801,\n ('critic', 0): 493,\n ('alltoofrequ', 0): 1,\n ('disdain', 0): 14,\n ('femal', 0): 307,\n ('warrior', 0): 58,\n ('thinker', 0): 7,\n ('caus', 0): 426,\n ('close', 0): 645,\n ('mispriz', 0): 1,\n ('estim', 0): 11,\n ('obviou', 0): 286,\n ('antityranni', 0): 1,\n ('proentertain', 0): 1,\n ('glorious', 0): 11,\n ('turgid', 0): 5,\n ('melodrama', 0): 101,\n ('repres', 0): 191,\n ('dougla', 0): 131,\n ('sirk', 0): 41,\n ('high', 0): 757,\n ('strung', 0): 18,\n ('eschew', 0): 8,\n ('soft', 0): 88,\n ('wist', 0): 15,\n ('allow', 0): 461,\n ('weepi', 0): 8,\n ('sentiment', 0): 130,\n ('imit', 0): 53,\n ('instead', 0): 540,\n ('goe', 0): 879,\n ('feverish', 0): 1,\n ('angst', 0): 32,\n ('overh', 0): 2,\n ('tension', 0): 204,\n ('cours', 0): 1122,\n ('captur', 0): 452,\n ('vibrant', 0): 39,\n ('technicolorth', 0): 1,\n ('cornbal', 0): 10,\n ('friendship', 0): 228,\n ('rock', 0): 429,\n ('hudson', 0): 64,\n ('robert', 0): 561,\n ('stack', 0): 57,\n ('rivalri', 0): 28,\n ('snag', 0): 7,\n ('affect', 0): 247,\n ('lauren', 0): 39,\n ('bacal', 0): 33,\n ('who', 0): 281,\n ('pay', 0): 286,\n ('attent', 0): 391,\n ('dorothi', 0): 64,\n ('malon', 0): 38,\n ('actress', 0): 577,\n ('academi', 0): 174,\n ('award', 0): 330,\n ('splendidli', 0): 11,\n ('overthetop', 0): 65,\n ('sister', 0): 440,\n ('famili', 0): 1536,\n ('busi', 0): 324,\n ('hand', 0): 711,\n ('els', 0): 600,\n ('highlight', 0): 150,\n ('highspirit', 0): 1,\n ('child', 0): 477,\n ('frantic', 0): 38,\n ('bedroom', 0): 37,\n ('unabl', 0): 101,\n ('bear', 0): 128,\n ('restraint', 0): 27,\n ('upon', 0): 345,\n ('middleclass', 0): 15,\n ('proprieti', 0): 3,\n ('frequent', 0): 110,\n ('unintent', 0): 29,\n ('yet', 0): 1113,\n ('strang', 0): 424,\n ('move', 0): 1127,\n ('effectivenesssirk', 0): 1,\n ('closer', 0): 97,\n ('anyon', 0): 997,\n ('pure', 0): 308,\n ('camp', 0): 197,\n ('art', 0): 641,\n ('satisfi', 0): 202,\n ('philistin', 0): 4,\n ('brow', 0): 7,\n ('within', 0): 307,\n ('talent', 0): 647,\n ('know', 0): 2866,\n ('maker', 0): 154,\n ('sincegrad', 0): 1,\n ('jami', 0): 76,\n ('foxx', 0): 55,\n ('incred', 0): 480,\n ('ray', 0): 236,\n ('charl', 0): 248,\n ('flashback', 0): 152,\n ('current', 0): 182,\n ('went', 0): 521,\n ('blind', 0): 122,\n ('mother', 0): 759,\n ('didnt', 0): 1354,\n ('babi', 0): 273,\n ('woman', 0): 1058,\n ('treat', 0): 317,\n ('push', 0): 184,\n ('musician', 0): 82,\n ('school', 0): 640,\n ('becam', 0): 277,\n ('stand', 0): 552,\n ('care', 0): 734,\n ('downfal', 0): 20,\n ('narcot', 0): 8,\n ('sex', 0): 480,\n ('betray', 0): 112,\n ('discourag', 0): 13,\n ('inspir', 0): 394,\n ('warn', 0): 185,\n ('coen', 0): 33,\n ('brother', 0): 683,\n ('david', 0): 480,\n ('lynch', 0): 120,\n ('defin', 0): 101,\n ('tast', 0): 204,\n ('disregard', 0): 25,\n ('ony', 0): 1,\n ('borrow', 0): 88,\n ('summari', 0): 63,\n ('book', 0): 939,\n ...}"
     },
     "execution_count": 21,
     "metadata": {},
     "output_type": "execute_result"
    }
   ],
   "source": [
    "## Run this cell to get an idea about the corpus of words and their occurrence along with labels. \n",
    "## In this, we are computing the frequency of occurrence of word given that a review is 'positive'.\n",
    "## Similarly, we also compute the frequency of occurrence of word given that a review is 'negative'.\n",
    "freqs"
   ]
  },
  {
   "cell_type": "markdown",
   "id": "759c24bc",
   "metadata": {
    "id": "759c24bc"
   },
   "source": [
    "## Training the Naive Bayes Model:\n",
    "\n",
    "Calculating the log likelihood and log prior values, as these are important for testing.\n",
    "\n",
    "Word frequency count using the above functions is used to compute the log likelihood.\n",
    "\n",
    "We will need the logprior and loglikelihood output by the model from this function. "
   ]
  },
  {
   "cell_type": "code",
   "execution_count": 33,
   "id": "a7f280e3",
   "metadata": {
    "id": "a7f280e3",
    "ExecuteTime": {
     "end_time": "2023-12-01T20:36:53.013142Z",
     "start_time": "2023-12-01T20:36:52.975936Z"
    }
   },
   "outputs": [],
   "source": [
    "def train_naive_bayes(freqs, train_x, train_y):\n",
    "    '''\n",
    "    Input:\n",
    "        freqs: dictionary from (word, label) to how often the word appears\n",
    "        train_x: a list of reviews\n",
    "        train_y: a list of labels corresponding to the reviews (0,1)\n",
    "    Output:\n",
    "        logprior: the log prior. (equation 3 above)\n",
    "        loglikelihood: the log likelihood of you Naive bayes equation. (equation 6 above)\n",
    "    '''\n",
    "\n",
    "    loglikelihood = {}\n",
    "    logprior = 0\n",
    "\n",
    "    # calculate V, the number of unique words in the vocabulary\n",
    "    vocab = set([word for word, label in freqs.keys()])\n",
    "    V = len(vocab)\n",
    "\n",
    "    # calculate num_pos and num_neg - the total number of positive and negative words for all documents\n",
    "    num_pos = num_neg = 0\n",
    "    for pair in freqs.keys():\n",
    "        # if the label is positive (equals zero)\n",
    "        if pair[1] == 0:\n",
    "            # Increment the number of positive words by the count for this (word, label) pair\n",
    "            num_pos += freqs[pair]\n",
    "\n",
    "        # else, the label is negative\n",
    "        else:\n",
    "            # Increment the number of negative words by the count for this (word,label) pair\n",
    "            num_neg += freqs[pair]\n",
    "\n",
    "    # Calculate num_doc, the number of documents\n",
    "    num_doc = len(train_x)\n",
    "\n",
    "    # Calculate D_pos, the number of positive documents\n",
    "    pos_num_docs = (train_y == 1).sum() + 1\n",
    "\n",
    "    # Calculate D_neg, the number of negative documents \n",
    "    neg_num_docs = (train_y == 0).sum() + 1\n",
    "\n",
    "    # Calculate logprior\n",
    "    logp = { 1: np.log(pos_num_docs/num_doc), 0: np.log(neg_num_docs/num_doc) }\n",
    "    # scalar log prior since binary class\n",
    "    logprior = np.log(pos_num_docs/neg_num_docs)\n",
    "\n",
    "    # For each word in the vocabulary...\n",
    "    for word in vocab:\n",
    "        # get the positive and negative frequency of the word\n",
    "        freq_pos = (freqs[(word, 1)] if (word, 1) in freqs else 0) + 1\n",
    "        freq_neg = (freqs[(word, 0)] if (word, 0) in freqs else 0) + 1\n",
    "        freq_total = freq_pos + freq_neg\n",
    "\n",
    "        # calculate the probability that each word is positive, and negative\n",
    "        p_w_pos = freq_pos/freq_total\n",
    "        p_w_neg = freq_neg/freq_total\n",
    "\n",
    "        # calculate the log likelihood of the word\n",
    "        loglikelihood[word] = [np.log(p_w_pos), np.log(p_w_neg)]\n",
    "\n",
    "    return logprior, loglikelihood"
   ]
  },
  {
   "cell_type": "code",
   "execution_count": 34,
   "id": "1561d892",
   "metadata": {
    "id": "1561d892",
    "ExecuteTime": {
     "end_time": "2023-12-01T20:36:54.682152Z",
     "start_time": "2023-12-01T20:36:54.195393Z"
    }
   },
   "outputs": [
    {
     "name": "stdout",
     "output_type": "stream",
     "text": [
      "{1: -0.693047185559612, 0: -0.693047185559612} 0.0 10001 10001\n",
      "0.0\n",
      "88799\n"
     ]
    }
   ],
   "source": [
    "logprior, loglikelihood = train_naive_bayes(freqs, X_train, y_train)\n",
    "print(logprior)\n",
    "print(len(loglikelihood))"
   ]
  },
  {
   "cell_type": "markdown",
   "id": "19d9c882",
   "metadata": {
    "id": "19d9c882"
   },
   "source": [
    "### Expected Output \n",
    "\n",
    "0.0 <br>\n",
    "91425"
   ]
  },
  {
   "cell_type": "markdown",
   "id": "78b51303",
   "metadata": {
    "id": "78b51303"
   },
   "source": [
    "## Implementing Naive Bayes Predict Function:"
   ]
  },
  {
   "cell_type": "code",
   "execution_count": 24,
   "id": "b692c2f9",
   "metadata": {
    "id": "b692c2f9",
    "ExecuteTime": {
     "end_time": "2023-12-01T20:31:05.393989Z",
     "start_time": "2023-12-01T20:31:05.384820Z"
    }
   },
   "outputs": [],
   "source": [
    "def naive_bayes_predict(review, logprior, loglikelihood):\n",
    "    '''\n",
    "    Params:\n",
    "        review: a string\n",
    "        logprior: a number\n",
    "        loglikelihood: a dictionary of words mapping to numbers\n",
    "    Return:\n",
    "        total_prob: the sum of all the loglikelihoods of each word in the review (if found in the dictionary) + logprior (a number)\n",
    "\n",
    "    '''\n",
    "    \n",
    "    # process the review to get a list of words\n",
    "    word_l = clean_review(review).split()\n",
    "\n",
    "    # probability for each word\n",
    "    # word_p = {word: 0 for word in word_l}\n",
    "\n",
    "    # initialize probability to zero\n",
    "    total_prob = 0\n",
    "\n",
    "    # add the logprior\n",
    "    total_prob = logprior\n",
    "    prob_pos = logprior\n",
    "    prob_neg = logprior\n",
    "\n",
    "    for word in word_l:\n",
    "\n",
    "        # check if the word exists in the loglikelihood dictionary\n",
    "        if word in loglikelihood:\n",
    "            # add the log likelihood of that word to the probability\n",
    "            # total_prob += None\n",
    "            prob_pos += loglikelihood[word][0]\n",
    "            prob_neg += loglikelihood[word][1]\n",
    "\n",
    "            # save the log likelihood\n",
    "            # word_p[word] = loglikelihood[word]\n",
    "\n",
    "    # print(word_p)\n",
    "    return 0 if prob_pos < prob_neg else 1"
   ]
  },
  {
   "cell_type": "markdown",
   "source": [
    "## Testing a sample review"
   ],
   "metadata": {
    "collapsed": false
   },
   "id": "145a65a9b8899aea"
  },
  {
   "cell_type": "code",
   "execution_count": 25,
   "id": "4b170333",
   "metadata": {
    "id": "4b170333",
    "outputId": "0cf6bc90-90e8-4dee-bf95-7eaf39dce147",
    "colab": {
     "base_uri": "https://localhost:8080/"
    },
    "ExecuteTime": {
     "end_time": "2023-12-01T20:31:05.463586Z",
     "start_time": "2023-12-01T20:31:05.393193Z"
    }
   },
   "outputs": [
    {
     "name": "stdout",
     "output_type": "stream",
     "text": [
      "The output is 1\n"
     ]
    }
   ],
   "source": [
    "my_review = \"I thought this series was going to be another fun, action series with some dynamic plots and great performances. I was wrong. While I like Jamie Denton, this show is hardly worth watching at all, unless you enjoy watching some people brutalized and the actions of the agents supposedly warranted under the theme of national security. The show is great propaganda for the current government, and spews out jingoism as though we talk that way every day. After a couple of episodes, it was boring the hell out of me, and I started watching reruns of House Invaders on BBCAmerica instead. Rather watch CSI and Without a Trace, without a doubt.\"\n",
    "p = naive_bayes_predict(my_review, logprior, loglikelihood)\n",
    "print('The output is', p)"
   ]
  },
  {
   "cell_type": "markdown",
   "id": "6242708f",
   "metadata": {
    "id": "6242708f"
   },
   "source": [
    "### Expected Output :\n",
    "The expected output is 1"
   ]
  },
  {
   "cell_type": "markdown",
   "id": "7c4eeb71",
   "metadata": {
    "id": "7c4eeb71"
   },
   "source": [
    "## Implementing Naive Bayes Test function:"
   ]
  },
  {
   "cell_type": "code",
   "execution_count": 26,
   "id": "66a511e7",
   "metadata": {
    "id": "66a511e7",
    "ExecuteTime": {
     "end_time": "2023-12-01T20:31:05.464290Z",
     "start_time": "2023-12-01T20:31:05.415465Z"
    }
   },
   "outputs": [],
   "source": [
    "def test_naive_bayes(test_x, test_y, logprior, loglikelihood):\n",
    "    \"\"\"\n",
    "    Input:\n",
    "        test_x: A list of reviews\n",
    "        test_y: the corresponding labels for the list of reviews\n",
    "        logprior: the logprior\n",
    "        loglikelihood: a dictionary with the loglikelihoods for each word\n",
    "    Output:\n",
    "        accuracy: (# of reviews classified correctly)/(total # of reviews)\n",
    "    \"\"\"\n",
    "    accuracy = 0  \n",
    "\n",
    "    \n",
    "    y_hats = []\n",
    "    for review in test_x:\n",
    "        # if the prediction is > 0\n",
    "        if naive_bayes_predict(review, logprior, loglikelihood) > 0:\n",
    "            # the predicted class is 1\n",
    "            y_hat_i = 1\n",
    "        else:\n",
    "            # otherwise the predicted class is 0\n",
    "            y_hat_i = 0\n",
    "\n",
    "        # append the predicted class to the list y_hats\n",
    "        y_hats.append(1)\n",
    "\n",
    "    # error is the average of the absolute values of the differences between y_hats and test_y\n",
    "    error = np.mean(np.abs(np.array(y_hats) - np.array(test_y)))\n",
    "\n",
    "    correct = 0\n",
    "    for i in range(len(test_y)):\n",
    "        if test_y[i] == y_hats[i]:\n",
    "            correct += 1\n",
    "\n",
    "    accuracy = correct/len(test_y)\n",
    "\n",
    "    return accuracy"
   ]
  },
  {
   "cell_type": "code",
   "execution_count": 27,
   "id": "8a9c5d9d",
   "metadata": {
    "id": "8a9c5d9d",
    "ExecuteTime": {
     "end_time": "2023-12-01T20:31:05.465555Z",
     "start_time": "2023-12-01T20:31:05.420141Z"
    }
   },
   "outputs": [
    {
     "name": "stdout",
     "output_type": "stream",
     "text": [
      "If you like original gut wrenching laughter you will like this movie. If you are young or old then y -> 0.00\n",
      "What a waste of talent. A very poor, semi-coherent, script cripples this film. Rather unimaginative  -> 1.00\n",
      "I have seen this film at least 100 times and I am still excited by it, the acting is perfect and the -> 0.00\n",
      "Cheap, amateurish, unimaginative, exploitative... but don't think it'll have redeeming amusement val -> 1.00\n"
     ]
    }
   ],
   "source": [
    "for review in [\"If you like original gut wrenching laughter you will like this movie. If you are young or old then you will love this movie, hell even my mom liked it.<br /><br />Great Camp!!!\",\n",
    "                \"What a waste of talent. A very poor, semi-coherent, script cripples this film. Rather unimaginative direction, too. Some VERY faint echoes of Fargo here, but it just doesn't come off.\",\n",
    "                \"I have seen this film at least 100 times and I am still excited by it, the acting is perfect and the romance between Joe and Jean keeps me on the edge of my seat, plus I still think Bryan Brown is the tops. Brilliant Film.\",\n",
    "                \"Cheap, amateurish, unimaginative, exploitative... but don't think it'll have redeeming amusement value. About as unentertaining, uninstructive and just plain dull as a film can be.\"]:\n",
    "    p = naive_bayes_predict(review, logprior, loglikelihood)\n",
    "    print(f'{review[:100]} -> {p:.2f}')\n",
    "    "
   ]
  },
  {
   "cell_type": "markdown",
   "id": "43e2ef98",
   "metadata": {
    "id": "43e2ef98"
   },
   "source": [
    "### Expected Output :\n",
    "\n",
    "If you like original gut wrenching laughter you will like this movie. If you are young or old then y -> 0.00 <br>\n",
    "What a waste of talent. A very poor, semi-coherent, script cripples this film. Rather unimaginative  -> 1.00<br>\n",
    "I have seen this film at least 100 times and I am still excited by it, the acting is perfect and the -> 0.00 <br>\n",
    "Cheap, amateurish, unimaginative, exploitative... but don't think it'll have redeeming amusement val -> 1.00\n",
    "\n"
   ]
  },
  {
   "cell_type": "code",
   "execution_count": 28,
   "id": "216fa97a",
   "metadata": {
    "id": "216fa97a",
    "colab": {
     "base_uri": "https://localhost:8080/"
    },
    "outputId": "9d1f21c7-b324-43c2-e841-269c0306cbb4",
    "ExecuteTime": {
     "end_time": "2023-12-01T20:31:05.466101Z",
     "start_time": "2023-12-01T20:31:05.445327Z"
    }
   },
   "outputs": [
    {
     "data": {
      "text/plain": "1"
     },
     "execution_count": 28,
     "metadata": {},
     "output_type": "execute_result"
    }
   ],
   "source": [
    "# other testing\n",
    "my_review = 'The moview was very boring, I wanted to leave in the middle'\n",
    "naive_bayes_predict(my_review, logprior, loglikelihood)"
   ]
  },
  {
   "cell_type": "markdown",
   "id": "8a45e4f0",
   "metadata": {
    "id": "8a45e4f0"
   },
   "source": [
    "### Expected Output :\n",
    "1"
   ]
  },
  {
   "cell_type": "markdown",
   "source": [
    "# Evaluation: Accuracy\n",
    "Using a confusion matrix"
   ],
   "metadata": {
    "id": "mAIkM4aCC1H7"
   },
   "id": "mAIkM4aCC1H7"
  },
  {
   "cell_type": "code",
   "execution_count": 29,
   "outputs": [
    {
     "data": {
      "text/plain": "<Figure size 640x480 with 2 Axes>",
      "image/png": "[encoded data removed]"
     },
     "metadata": {},
     "output_type": "display_data"
    },
    {
     "name": "stdout",
     "output_type": "stream",
     "text": [
      "0.6\n"
     ]
    }
   ],
   "source": [
    "'''\n",
    "Input:\n",
    "seed: Random seed\n",
    "\n",
    "Output: accuracy\n",
    "'''\n",
    "def evalAccuracy(seed):\n",
    "    N_samples = 10\n",
    "\n",
    "    X_train_a, X_test_a, y_train_a, y_test_a = train_test_split(df['review'], df['sentiment'], train_size=N_samples, test_size=N_samples, random_state=seed)\n",
    "\n",
    "    # map to numerical data\n",
    "    output_map = {'positive': 0, 'negative': 1}\n",
    "    y_train_a = y_train_a.map(output_map)\n",
    "    y_test_a = y_test_a.map(output_map)\n",
    "\n",
    "    freqs_a = review_counter({}, X_train_a, y_train_a)\n",
    "    logprior, loglikelihood = train_naive_bayes(freqs_a, X_train_a, y_train_a)\n",
    "\n",
    "    y_hat_a = X_test_a.map(lambda x : naive_bayes_predict(x, logprior, loglikelihood))\n",
    "\n",
    "    # list for easy indexing\n",
    "    y_test_a = y_test_a.tolist()\n",
    "    y_hat_a = y_hat_a.tolist()\n",
    "\n",
    "    # print confusion matrix\n",
    "    cm = confusion_matrix(y_test_a, y_hat_a)\n",
    "    disp = ConfusionMatrixDisplay(confusion_matrix=cm, display_labels=[0,1])\n",
    "    disp = disp.plot(cmap=plt.get_cmap(\"Blues\"))\n",
    "    plt.show()\n",
    "\n",
    "    # accuracy\n",
    "    correct = 0\n",
    "    for i in range(len(y_test_a)):\n",
    "        if y_test_a[i] == y_hat_a[i]:\n",
    "            correct += 1\n",
    "\n",
    "    accuracy = correct/len(y_test_a)\n",
    "\n",
    "    return accuracy\n",
    "\n",
    "print(evalAccuracy(10))"
   ],
   "metadata": {
    "collapsed": false,
    "ExecuteTime": {
     "end_time": "2023-12-01T20:31:06.181467Z",
     "start_time": "2023-12-01T20:31:05.457772Z"
    }
   },
   "id": "797326c473fa6cb2"
  },
  {
   "cell_type": "markdown",
   "source": [
    "# Saving The Model\n",
    "Saving the model parameters is crucial for future deployments"
   ],
   "metadata": {
    "collapsed": false
   },
   "id": "bb9e3adb9505d822"
  },
  {
   "cell_type": "code",
   "execution_count": 30,
   "outputs": [],
   "source": [
    "model_parameters = {\n",
    "    'logprior': logprior,\n",
    "    'loglikelihood': loglikelihood\n",
    "}\n",
    "\n",
    "# Save the model parameters to a file\n",
    "with open('movie_sentiment_model_parameters.json', 'w') as file:\n",
    "    json.dump(model_parameters, file)"
   ],
   "metadata": {
    "collapsed": false,
    "ExecuteTime": {
     "end_time": "2023-12-01T20:31:06.609708Z",
     "start_time": "2023-12-01T20:31:06.181160Z"
    }
   },
   "id": "67619e248879c6e2"
  }
 ],
 "metadata": {
  "kernelspec": {
   "display_name": "Python 3 (ipykernel)",
   "language": "python",
   "name": "python3"
  },
  "language_info": {
   "codemirror_mode": {
    "name": "ipython",
    "version": 3
   },
   "file_extension": ".py",
   "mimetype": "text/x-python",
   "name": "python",
   "nbconvert_exporter": "python",
   "pygments_lexer": "ipython3",
   "version": "3.9.5"
  },
  "colab": {
   "name": "CS6120_NLP_Assignment_1_Notebook.ipynb",
   "provenance": [],
   "collapsed_sections": [],
   "toc_visible": true
  }
 },
 "nbformat": 4,
 "nbformat_minor": 5
}
